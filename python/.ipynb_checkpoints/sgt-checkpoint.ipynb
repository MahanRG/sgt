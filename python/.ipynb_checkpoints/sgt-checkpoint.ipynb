{
 "cells": [
  {
   "cell_type": "code",
   "execution_count": null,
   "metadata": {},
   "outputs": [],
   "source": [
    "# -*- coding: utf-8 -*-\n",
    "# Authors: Chitta Ranjan <cran2367@gmail.com>\n",
    "#\n",
    "# License: BSD 3 clause"
   ]
  },
  {
   "cell_type": "markdown",
   "metadata": {},
   "source": [
    "# Sgt definition.\n",
    "\n",
    "## Purpose\n",
    "\n",
    "Sequence Graph Transform (SGT) is a sequence embedding function. SGT extracts the short- and long-term sequence features and embeds them in a finite-dimensional feature space. With SGT you can tune the amount of short- to long-term patterns extracted in the embeddings without any  increase in the computation.\"\n",
    "\n",
    "```class Sgt():\n",
    "    '''\n",
    "    Compute embedding of a single or a collection of discrete item \n",
    "    sequences. A discrete item sequence is a sequence made from a set\n",
    "    discrete elements, also known as alphabet set. For example,\n",
    "    suppose the alphabet set is the set of roman letters, \n",
    "    {A, B, ..., Z}. This set is made of discrete elements. Examples of\n",
    "    sequences from such a set are AABADDSA, UADSFJPFFFOIHOUGD, etc.\n",
    "    Such sequence datasets are commonly found in online industry,\n",
    "    for example, item purchase history, where the alphabet set is\n",
    "    the set of all product items. Sequence datasets are abundant in\n",
    "    bioinformatics as protein sequences.\n",
    "    Using the embeddings created here, classification and clustering\n",
    "    models can be built for sequence datasets.\n",
    "    Read more in https://arxiv.org/pdf/1608.03533.pdf\n",
    "    '''\n",
    "```\n",
    "    Parameters\n",
    "    ----------\n",
    "    Input:\n",
    "\n",
    "    alphabets       Optional, except if mode is Spark. \n",
    "                    The set of alphabets that make up all \n",
    "                    the sequences in the dataset. If not passed, the\n",
    "                    alphabet set is automatically computed as the \n",
    "                    unique set of elements that make all the sequences.\n",
    "                    A list or 1d-array of the set of elements that make up the      \n",
    "                    sequences. For example, np.array([\"A\", \"B\", \"C\"].\n",
    "                    If mode is 'spark', the alphabets are necessary.\n",
    "\n",
    "    kappa           Tuning parameter, kappa > 0, to change the extraction of \n",
    "                    long-term dependency. Higher the value the lesser\n",
    "                    the long-term dependency captured in the embedding.\n",
    "                    Typical values for kappa are 1, 5, 10.\n",
    "\n",
    "    lengthsensitive Default false. This is set to true if the embedding of\n",
    "                    should have the information of the length of the sequence.\n",
    "                    If set to false then the embedding of two sequences with\n",
    "                    similar pattern but different lengths will be the same.\n",
    "                    lengthsensitive = false is similar to length-normalization.\n",
    "                    \n",
    "    flatten         Default True. If True the SGT embedding is flattened and returned as\n",
    "                    a vector. Otherwise, it is returned as a matrix with the row and col\n",
    "                    names same as the alphabets. The matrix form is used for            \n",
    "                    interpretation purposes. Especially, to understand how the alphabets\n",
    "                    are \"related\". Otherwise, for applying machine learning or deep\n",
    "                    learning algorithms, the embedding vectors are required.\n",
    "    \n",
    "    mode            Choices in {'default', 'multiprocessing', 'spark'}.\n",
    "    \n",
    "    processors      Used if mode is 'multiprocessing'. By default, the \n",
    "                    number of processors used in multiprocessing is\n",
    "                    number of available - 1.\n",
    "    \n",
    "    lazy            Used if mode is 'spark'. Default is False. If False,\n",
    "                    the SGT embeddings are computed for each sequence\n",
    "                    in the inputted RDD and returned as a list of \n",
    "                    embedding vectors. Otherwise, the RDD map is returned.\n",
    "    '''\n",
    "\n",
    "    Attributes\n",
    "    ----------\n",
    "    def fit(sequence)\n",
    "    \n",
    "    Extract Sequence Graph Transform features using Algorithm-2 in https://arxiv.org/abs/1608.03533.\n",
    "    Input:\n",
    "    sequence        An array of discrete elements. For example,\n",
    "                    np.array([\"B\",\"B\",\"A\",\"C\",\"A\",\"C\",\"A\",\"A\",\"B\",\"A\"].\n",
    "                    \n",
    "    Output: \n",
    "    sgt embedding   sgt matrix or vector (depending on Flatten==False or True) of the sequence\n",
    "    \n",
    "    \n",
    "    --\n",
    "    def fit_transform(corpus)\n",
    "    \n",
    "    Extract SGT embeddings for all sequences in a corpus. It finds\n",
    "    the alphabets encompassing all the sequences in the corpus, if not inputted. \n",
    "    However, if the mode is 'spark', then the alphabets list has to be\n",
    "    explicitly given in Sgt object declaration.\n",
    "    \n",
    "    Input:\n",
    "    corpus          A list of sequences. Each sequence is a list of alphabets.\n",
    "    \n",
    "    Output:\n",
    "    sgt embedding of all sequences in the corpus.\n",
    "    \n",
    "    \n",
    "    --\n",
    "    def transform(corpus)\n",
    "    \n",
    "    Find SGT embeddings of a new data sample belonging to the same population\n",
    "    of the corpus that was fitted initially."
   ]
  },
  {
   "cell_type": "markdown",
   "metadata": {},
   "source": [
    "## Illustrative examples"
   ]
  },
  {
   "cell_type": "code",
   "execution_count": 1,
   "metadata": {},
   "outputs": [
    {
     "name": "stderr",
     "output_type": "stream",
     "text": [
      "Using TensorFlow backend.\n"
     ]
    }
   ],
   "source": [
    "import numpy as np\n",
    "import pandas as pd\n",
    "from itertools import chain\n",
    "import warnings\n",
    "\n",
    "########\n",
    "from sklearn.preprocessing import LabelEncoder\n",
    "import tensorflow as tf\n",
    "from keras.datasets import imdb\n",
    "from tensorflow.keras.models import Sequential\n",
    "from tensorflow.keras.layers import Dense\n",
    "from tensorflow.keras.layers import LSTM\n",
    "from tensorflow.keras.layers import Dropout\n",
    "from tensorflow.keras.layers import Activation\n",
    "from tensorflow.keras.layers import Flatten\n",
    "from tensorflow.keras.layers import Embedding\n",
    "from tensorflow.keras.preprocessing import sequence\n",
    "\n",
    "from sklearn.model_selection import train_test_split\n",
    "from sklearn.model_selection import KFold\n",
    "from sklearn.model_selection import StratifiedKFold\n",
    "import sklearn.metrics\n",
    "import time\n",
    "\n",
    "from sklearn.decomposition import PCA\n",
    "from sklearn.cluster import KMeans\n",
    "\n",
    "import matplotlib.pyplot as plt\n",
    "%matplotlib inline\n",
    "\n",
    "np.random.seed(7) # fix random seed for reproducibility\n",
    "\n",
    "from sgt import Sgt"
   ]
  },
  {
   "cell_type": "markdown",
   "metadata": {},
   "source": [
    "## Installation Test Examples"
   ]
  },
  {
   "cell_type": "code",
   "execution_count": 2,
   "metadata": {},
   "outputs": [
    {
     "data": {
      "text/html": [
       "<div>\n",
       "<style scoped>\n",
       "    .dataframe tbody tr th:only-of-type {\n",
       "        vertical-align: middle;\n",
       "    }\n",
       "\n",
       "    .dataframe tbody tr th {\n",
       "        vertical-align: top;\n",
       "    }\n",
       "\n",
       "    .dataframe thead th {\n",
       "        text-align: right;\n",
       "    }\n",
       "</style>\n",
       "<table border=\"1\" class=\"dataframe\">\n",
       "  <thead>\n",
       "    <tr style=\"text-align: right;\">\n",
       "      <th></th>\n",
       "      <th>A</th>\n",
       "      <th>B</th>\n",
       "      <th>C</th>\n",
       "    </tr>\n",
       "  </thead>\n",
       "  <tbody>\n",
       "    <tr>\n",
       "      <th>A</th>\n",
       "      <td>0.906163</td>\n",
       "      <td>1.310023</td>\n",
       "      <td>2.618487</td>\n",
       "    </tr>\n",
       "    <tr>\n",
       "      <th>B</th>\n",
       "      <td>0.865694</td>\n",
       "      <td>1.230423</td>\n",
       "      <td>0.525440</td>\n",
       "    </tr>\n",
       "    <tr>\n",
       "      <th>C</th>\n",
       "      <td>1.371416</td>\n",
       "      <td>0.282625</td>\n",
       "      <td>1.353353</td>\n",
       "    </tr>\n",
       "  </tbody>\n",
       "</table>\n",
       "</div>"
      ],
      "text/plain": [
       "          A         B         C\n",
       "A  0.906163  1.310023  2.618487\n",
       "B  0.865694  1.230423  0.525440\n",
       "C  1.371416  0.282625  1.353353"
      ]
     },
     "execution_count": 2,
     "metadata": {},
     "output_type": "execute_result"
    }
   ],
   "source": [
    "# Learning a sgt embedding as a matrix with \n",
    "# rows and columns as the sequence alphabets. \n",
    "# This embedding shows the relationship between \n",
    "# the alphabets. The higher the value the \n",
    "# stronger the relationship.\n",
    "\n",
    "sgt = Sgt(flatten=False)\n",
    "sequence = np.array([\"B\",\"B\",\"A\",\"C\",\"A\",\"C\",\"A\",\"A\",\"B\",\"A\"])\n",
    "sgt.fit(sequence)"
   ]
  },
  {
   "cell_type": "code",
   "execution_count": 3,
   "metadata": {},
   "outputs": [
    {
     "name": "stdout",
     "output_type": "stream",
     "text": [
      "[[0.90616284 1.31002279 2.6184865  0.         0.         0.86569371\n",
      "  1.23042262 0.52543984 0.         0.         1.37141609 0.28262508\n",
      "  1.35335283 0.         0.         0.         0.         0.\n",
      "  0.         0.         0.         0.         0.         0.\n",
      "  0.        ]\n",
      " [0.         0.         0.         0.         0.         0.\n",
      "  0.         0.         0.         0.         0.         0.\n",
      "  0.         0.09157819 0.92166965 0.         0.         0.\n",
      "  0.         0.         0.         0.         0.         0.92166965\n",
      "  1.45182361]]\n"
     ]
    }
   ],
   "source": [
    "# Learning the sgt embeddings as vector for\n",
    "# all sequences in a corpus.\n",
    "\n",
    "sgt = Sgt(kappa=1, lengthsensitive=False)\n",
    "corpus = [[\"B\",\"B\",\"A\",\"C\",\"A\",\"C\",\"A\",\"A\",\"B\",\"A\"], [\"C\", \"Z\", \"Z\", \"Z\", \"D\"]]\n",
    "\n",
    "s = sgt.fit_transform(corpus)\n",
    "print(s)"
   ]
  },
  {
   "cell_type": "code",
   "execution_count": 4,
   "metadata": {},
   "outputs": [
    {
     "name": "stdout",
     "output_type": "stream",
     "text": [
      "[[0.23305129 0.2791752  0.33922608 0.         0.         0.26177435\n",
      "  0.29531212 0.10270374 0.         0.         0.28654051 0.04334255\n",
      "  0.13533528 0.         0.         0.         0.         0.\n",
      "  0.         0.         0.         0.         0.         0.\n",
      "  0.        ]\n",
      " [0.         0.         0.         0.         0.         0.\n",
      "  0.         0.         0.         0.         0.         0.\n",
      "  0.         0.01831564 0.29571168 0.         0.         0.\n",
      "  0.         0.         0.         0.         0.         0.29571168\n",
      "  0.3394528 ]]\n"
     ]
    }
   ],
   "source": [
    "# Change the parameters from default to\n",
    "# a tuned value.\n",
    "\n",
    "sgt = Sgt(kappa=5, lengthsensitive=True)\n",
    "corpus = [[\"B\",\"B\",\"A\",\"C\",\"A\",\"C\",\"A\",\"A\",\"B\",\"A\"], [\"C\", \"Z\", \"Z\", \"Z\", \"D\"]]\n",
    "\n",
    "s = sgt.fit_transform(corpus)\n",
    "print(s)"
   ]
  },
  {
   "cell_type": "code",
   "execution_count": 5,
   "metadata": {},
   "outputs": [
    {
     "name": "stdout",
     "output_type": "stream",
     "text": [
      "[[0.90616284 1.31002279 2.6184865  0.         0.         0.86569371\n",
      "  1.23042262 0.52543984 0.         0.         1.37141609 0.28262508\n",
      "  1.35335283 0.         0.         0.         0.         0.\n",
      "  0.         0.         0.         0.         0.         0.\n",
      "  0.        ]\n",
      " [0.         0.         0.         0.         0.         0.\n",
      "  0.         0.         0.         0.         0.         0.\n",
      "  0.         0.09157819 0.92166965 0.         0.         0.\n",
      "  0.         0.         0.         0.         0.         0.92166965\n",
      "  1.45182361]]\n"
     ]
    }
   ],
   "source": [
    "# Change the mode for faster computation.\n",
    "# Mode: 'multiprocessing'\n",
    "# Uses the multiple processors (CPUs) avalaible.\n",
    "\n",
    "sgt = Sgt(mode='multiprocessing')\n",
    "corpus = [[\"B\",\"B\",\"A\",\"C\",\"A\",\"C\",\"A\",\"A\",\"B\",\"A\"], [\"C\", \"Z\", \"Z\", \"Z\", \"D\"]]\n",
    "\n",
    "s = sgt.fit_transform(corpus)\n",
    "print(s)"
   ]
  },
  {
   "cell_type": "code",
   "execution_count": null,
   "metadata": {},
   "outputs": [],
   "source": [
    "# Change the mode for faster computation.\n",
    "# Mode: 'spark'\n",
    "# Uses spark RDD.\n",
    "\n",
    "from pyspark import SparkContext\n",
    "sc = SparkContext(\"local\", \"app\")\n",
    "rdd = sc.parallelize(sequences)\n",
    "\n",
    "sgt_sc = sgt.Sgt(kappa = 1, lengthsensitive = False, mode=\"spark\", alphabets=list(string.ascii_uppercase))\n",
    "rdd_embedding = sgt_sc.fit_transform(corpus=rdd)\n",
    "\n",
    "sgt = Sgt(mode='multiprocessing')\n",
    "corpus = [[\"B\",\"B\",\"A\",\"C\",\"A\",\"C\",\"A\",\"A\",\"B\",\"A\"], [\"C\", \"Z\", \"Z\", \"Z\", \"D\"]]\n",
    "\n",
    "s = sgt.fit_transform(corpus)\n",
    "print(s)"
   ]
  },
  {
   "cell_type": "markdown",
   "metadata": {},
   "source": [
    "# Real data examples"
   ]
  },
  {
   "cell_type": "markdown",
   "metadata": {},
   "source": [
    "## Protein Sequence Data Analysis\n",
    "\n",
    "The data used here is taken from www.uniprot.org. This is a public database for proteins. The data contains the protein sequences and their functions. In the following, we will demonstrate \n",
    "- clustering of the sequences.\n",
    "- classification of the sequences with the functions as labels."
   ]
  },
  {
   "cell_type": "code",
   "execution_count": null,
   "metadata": {},
   "outputs": [],
   "source": [
    "protein_data=pd.read_csv('../data/protein_classification.csv')\n",
    "X=protein_data['Sequence']\n",
    "def split(word): \n",
    "    return [char for char in word] \n",
    "\n",
    "sequences = [split(x) for x in X]\n",
    "print(sequences[0])"
   ]
  },
  {
   "cell_type": "markdown",
   "metadata": {},
   "source": [
    "### Generating sequence embeddings"
   ]
  },
  {
   "cell_type": "code",
   "execution_count": null,
   "metadata": {},
   "outputs": [],
   "source": [
    "sgt = Sgt(kappa = 1, lengthsensitive = False)"
   ]
  },
  {
   "cell_type": "code",
   "execution_count": null,
   "metadata": {},
   "outputs": [],
   "source": [
    "%%time\n",
    "embedding = sgt.fit_transform(corpus=sequences)"
   ]
  },
  {
   "cell_type": "code",
   "execution_count": null,
   "metadata": {},
   "outputs": [],
   "source": [
    "embedding.shape"
   ]
  },
  {
   "cell_type": "markdown",
   "metadata": {},
   "source": [
    "#### Sequence Clustering\n",
    "We perform PCA on the sequence embeddings and then do kmeans clustering."
   ]
  },
  {
   "cell_type": "code",
   "execution_count": null,
   "metadata": {},
   "outputs": [],
   "source": [
    "pca = PCA(n_components=2)\n",
    "pca.fit(embedding)\n",
    "X=pca.transform(embedding)\n",
    "\n",
    "print(np.sum(pca.explained_variance_ratio_))\n",
    "df = pd.DataFrame(data=X, columns=['x1', 'x2'])\n",
    "df.head()"
   ]
  },
  {
   "cell_type": "code",
   "execution_count": null,
   "metadata": {},
   "outputs": [],
   "source": [
    "kmeans = KMeans(n_clusters=3, max_iter =300)\n",
    "kmeans.fit(df)\n",
    "\n",
    "labels = kmeans.predict(df)\n",
    "centroids = kmeans.cluster_centers_\n",
    "\n",
    "fig = plt.figure(figsize=(5, 5))\n",
    "colmap = {1: 'r', 2: 'g', 3: 'b'}\n",
    "colors = list(map(lambda x: colmap[x+1], labels))\n",
    "plt.scatter(df['x1'], df['x2'], color=colors, alpha=0.5, edgecolor=colors)"
   ]
  },
  {
   "cell_type": "markdown",
   "metadata": {
    "collapsed": true
   },
   "source": [
    "#### Sequence Classification\n",
    "We perform PCA on the sequence embeddings and then do kmeans clustering."
   ]
  },
  {
   "cell_type": "code",
   "execution_count": null,
   "metadata": {},
   "outputs": [],
   "source": [
    "y = protein_data['Function [CC]']\n",
    "encoder = LabelEncoder()\n",
    "encoder.fit(y)\n",
    "encoded_y = encoder.transform(y)"
   ]
  },
  {
   "cell_type": "markdown",
   "metadata": {},
   "source": [
    "We will perform a 10-fold cross-validation to measure the performance of the classification model."
   ]
  },
  {
   "cell_type": "code",
   "execution_count": null,
   "metadata": {},
   "outputs": [],
   "source": [
    "kfold = 10\n",
    "X = pd.DataFrame(embedding)\n",
    "y = encoded_y\n",
    "\n",
    "random_state = 1\n",
    "\n",
    "test_F1 = np.zeros(kfold)\n",
    "skf = KFold(n_splits = kfold, shuffle = True, random_state = random_state)\n",
    "k = 0\n",
    "epochs = 50\n",
    "batch_size = 128\n",
    "\n",
    "for train_index, test_index in skf.split(X, y):\n",
    "    X_train, X_test = X.iloc[train_index], X.iloc[test_index]\n",
    "    y_train, y_test = y[train_index], y[test_index]\n",
    "    X_train = X_train.as_matrix(columns = None)\n",
    "    X_test = X_test.as_matrix(columns = None)\n",
    "    \n",
    "    model = Sequential()\n",
    "    model.add(Dense(64, input_shape = (X_train.shape[1],))) \n",
    "    model.add(Activation('relu'))\n",
    "    model.add(Dropout(0.5))\n",
    "    model.add(Dense(32))\n",
    "    model.add(Activation('relu'))\n",
    "    model.add(Dropout(0.5))\n",
    "    model.add(Dense(1))\n",
    "    model.add(Activation('sigmoid'))\n",
    "    model.compile(loss='binary_crossentropy', optimizer='adam', metrics=['accuracy'])\n",
    "    \n",
    "    model.fit(X_train, y_train ,batch_size=batch_size, epochs=epochs, verbose=0)\n",
    "    \n",
    "    y_pred = model.predict_proba(X_test).round().astype(int)\n",
    "    y_train_pred = model.predict_proba(X_train).round().astype(int)\n",
    "\n",
    "    test_F1[k] = sklearn.metrics.f1_score(y_test, y_pred)\n",
    "    k+=1\n",
    "    \n",
    "print ('Average f1 score', np.mean(test_F1))"
   ]
  },
  {
   "cell_type": "markdown",
   "metadata": {},
   "source": [
    "## Weblog Data Analysis\n",
    "This data sample is taken from https://www.ll.mit.edu/r-d/datasets/1998-darpa-intrusion-detection-evaluation-dataset. \n",
    "This is a network intrusion data containing audit logs and any attack as a positive label. Since, network intrusion is a rare event, the data is unbalanced. Here we will,\n",
    "- build a sequence classification model to predict a network intrusion.\n",
    "\n",
    "Each sequence contains in the data is a series of activity, for example, {login, password}. The _alphabets_ in the input data sequences are already encoded into integers. The original sequences data file is also present in the `/data` directory."
   ]
  },
  {
   "cell_type": "code",
   "execution_count": null,
   "metadata": {},
   "outputs": [],
   "source": [
    "darpa_data = pd.DataFrame.from_csv('../data/darpa_data.csv')\n",
    "darpa_data.columns"
   ]
  },
  {
   "cell_type": "code",
   "execution_count": null,
   "metadata": {},
   "outputs": [],
   "source": [
    "X = darpa_data['seq']\n",
    "sequences = [x.split('~') for x in X]"
   ]
  },
  {
   "cell_type": "code",
   "execution_count": null,
   "metadata": {},
   "outputs": [],
   "source": [
    "y = darpa_data['class']\n",
    "encoder = LabelEncoder()\n",
    "encoder.fit(y)\n",
    "y = encoder.transform(y)"
   ]
  },
  {
   "cell_type": "markdown",
   "metadata": {},
   "source": [
    "### Generating sequence embeddings\n",
    "In this data, the sequence embeddings should be length-sensitive. The lengths are important here because sequences with similar patterns but different lengths can have different labels. Consider a simple example of two sessions: `{login, pswd, login, pswd,...}` and `{login, pswd,...(repeated several times)..., login, pswd}`. While the first session can be a regular user mistyping the password once, the other session is possibly an attack to guess the password. Thus, the sequence lengths are as important as the patterns."
   ]
  },
  {
   "cell_type": "code",
   "execution_count": null,
   "metadata": {},
   "outputs": [],
   "source": [
    "sgt_darpa = Sgt(kappa = 5, lengthsensitive = True)"
   ]
  },
  {
   "cell_type": "code",
   "execution_count": null,
   "metadata": {},
   "outputs": [],
   "source": [
    "embedding = sgt_darpa.fit_transform(corpus=sequences)"
   ]
  },
  {
   "cell_type": "code",
   "execution_count": null,
   "metadata": {},
   "outputs": [],
   "source": [
    "pd.DataFrame(embedding).to_csv(path_or_buf='tmp.csv', index=False)\n",
    "pd.DataFrame(embedding).head()"
   ]
  },
  {
   "cell_type": "markdown",
   "metadata": {},
   "source": [
    "#### Applying PCA on the embeddings\n",
    "The embeddings are sparse. We, therefore, apply PCA on the embeddings."
   ]
  },
  {
   "cell_type": "code",
   "execution_count": null,
   "metadata": {},
   "outputs": [],
   "source": [
    "from sklearn.decomposition import PCA\n",
    "pca = PCA(n_components=35)\n",
    "pca.fit(embedding)\n",
    "X = pca.transform(embedding)\n",
    "print(np.sum(pca.explained_variance_ratio_))"
   ]
  },
  {
   "cell_type": "markdown",
   "metadata": {},
   "source": [
    "#### Building a Multi-Layer Perceptron Classifier\n",
    "The PCA transforms of the embeddings are used directly as inputs to an MLP classifier."
   ]
  },
  {
   "cell_type": "code",
   "execution_count": null,
   "metadata": {},
   "outputs": [],
   "source": [
    "kfold = 3\n",
    "random_state = 11\n",
    "\n",
    "test_F1 = np.zeros(kfold)\n",
    "time_k = np.zeros(kfold)\n",
    "skf = StratifiedKFold(n_splits=kfold, shuffle=True, random_state=random_state)\n",
    "k = 0\n",
    "epochs = 300\n",
    "batch_size = 15\n",
    "\n",
    "# class_weight = {0 : 1., 1: 1.,}  # The weights can be changed and made inversely proportional to the class size to improve the accuracy.\n",
    "class_weight = {0 : 0.12, 1: 0.88,}\n",
    "\n",
    "for train_index, test_index in skf.split(X, y):\n",
    "    X_train, X_test = X[train_index], X[test_index]\n",
    "    y_train, y_test = y[train_index], y[test_index]\n",
    "    \n",
    "    model = Sequential()\n",
    "    model.add(Dense(128, input_shape=(X_train.shape[1],))) \n",
    "    model.add(Activation('relu'))\n",
    "    model.add(Dropout(0.5))\n",
    "    model.add(Dense(1))\n",
    "    model.add(Activation('sigmoid'))\n",
    "    model.summary()\n",
    "    model.compile(loss='binary_crossentropy', optimizer='adam', metrics=['accuracy'])\n",
    "    \n",
    "    start_time = time.time()\n",
    "    model.fit(X_train, y_train ,batch_size=batch_size, epochs=epochs, verbose=1, class_weight=class_weight)\n",
    "    end_time = time.time()\n",
    "    time_k[k] = end_time-start_time\n",
    "\n",
    "    y_pred = model.predict_proba(X_test).round().astype(int)\n",
    "    y_train_pred = model.predict_proba(X_train).round().astype(int)\n",
    "    test_F1[k] = sklearn.metrics.f1_score(y_test, y_pred)\n",
    "    k += 1"
   ]
  },
  {
   "cell_type": "code",
   "execution_count": null,
   "metadata": {},
   "outputs": [],
   "source": [
    "print ('Average f1 score', np.mean(test_F1))\n",
    "print ('Average Run time', np.mean(time_k))"
   ]
  },
  {
   "cell_type": "markdown",
   "metadata": {},
   "source": [
    "#### Building an LSTM Classifier on the sequences for comparison\n",
    "We built an LSTM Classifier on the sequences to compare the accuracy."
   ]
  },
  {
   "cell_type": "code",
   "execution_count": null,
   "metadata": {},
   "outputs": [],
   "source": [
    "X = darpa_data['seq']\n",
    "encoded_X = np.ndarray(shape=(len(X),), dtype=list)\n",
    "for i in range(0,len(X)):\n",
    "    encoded_X[i]=X.iloc[i].split(\"~\")"
   ]
  },
  {
   "cell_type": "code",
   "execution_count": null,
   "metadata": {},
   "outputs": [],
   "source": [
    "max_seq_length = np.max(darpa_data['seqlen'])\n",
    "encoded_X = tf.keras.preprocessing.sequence.pad_sequences(encoded_X, maxlen=max_seq_length)"
   ]
  },
  {
   "cell_type": "code",
   "execution_count": null,
   "metadata": {},
   "outputs": [],
   "source": [
    "kfold = 3\n",
    "random_state = 11\n",
    "\n",
    "test_F1 = np.zeros(kfold)\n",
    "time_k = np.zeros(kfold)\n",
    "\n",
    "epochs = 50\n",
    "batch_size = 15\n",
    "skf = StratifiedKFold(n_splits=kfold, shuffle=True, random_state=random_state)\n",
    "k = 0\n",
    "\n",
    "for train_index, test_index in skf.split(encoded_X, y):\n",
    "    X_train, X_test = encoded_X[train_index], encoded_X[test_index]\n",
    "    y_train, y_test = y[train_index], y[test_index]\n",
    "    \n",
    "    embedding_vecor_length = 32\n",
    "    top_words=50\n",
    "    model = Sequential()\n",
    "    model.add(Embedding(top_words, embedding_vecor_length, input_length=max_seq_length))\n",
    "    model.add(LSTM(32))\n",
    "    model.add(Dense(1))\n",
    "    model.add(Activation('sigmoid'))\n",
    "    model.compile(loss='binary_crossentropy', optimizer='adam', metrics=['accuracy'])\n",
    "    \n",
    "    model.summary()\n",
    "    \n",
    "    start_time = time.time()\n",
    "    model.fit(X_train, y_train, epochs=epochs, batch_size=batch_size, verbose=1)\n",
    "    end_time=time.time()\n",
    "    time_k[k]=end_time-start_time\n",
    "\n",
    "    y_pred = model.predict_proba(X_test).round().astype(int)\n",
    "    y_train_pred=model.predict_proba(X_train).round().astype(int)\n",
    "    test_F1[k]=sklearn.metrics.f1_score(y_test, y_pred)\n",
    "    k+=1"
   ]
  },
  {
   "cell_type": "code",
   "execution_count": null,
   "metadata": {},
   "outputs": [],
   "source": [
    "print ('Average f1 score', np.mean(test_F1))\n",
    "print ('Average Run time', np.mean(time_k))"
   ]
  },
  {
   "cell_type": "markdown",
   "metadata": {},
   "source": [
    "We find that the LSTM classifier gives an F1 score of 0. This may be improved by changing the model. However, we find that the SGT embedding could work with a small and unbalanced data without the need of a complicated classifier model.\n",
    "\n",
    "LSTM models typically require more data for training and also has significantly more computation time. The LSTM model above took 425.6 secs while the MLP model took just 9.1 secs."
   ]
  },
  {
   "cell_type": "code",
   "execution_count": null,
   "metadata": {},
   "outputs": [],
   "source": []
  }
 ],
 "metadata": {
  "kernelspec": {
   "display_name": "Python 3",
   "language": "python",
   "name": "python3"
  },
  "language_info": {
   "codemirror_mode": {
    "name": "ipython",
    "version": 3
   },
   "file_extension": ".py",
   "mimetype": "text/x-python",
   "name": "python",
   "nbconvert_exporter": "python",
   "pygments_lexer": "ipython3",
   "version": "3.7.2"
  }
 },
 "nbformat": 4,
 "nbformat_minor": 2
}
