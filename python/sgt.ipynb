{
 "cells": [
  {
   "cell_type": "code",
   "execution_count": 5,
   "metadata": {
    "collapsed": true
   },
   "outputs": [],
   "source": [
    "# -*- coding: utf-8 -*-\n",
    "# Authors: Chitta Ranjan <cran2367@gmail.com>\n",
    "#\n",
    "# License: BSD 3 clause"
   ]
  },
  {
   "cell_type": "code",
   "execution_count": 152,
   "metadata": {
    "collapsed": true
   },
   "outputs": [],
   "source": [
    "import numpy as np\n",
    "import pandas as pd\n",
    "from itertools import chain\n",
    "import warnings"
   ]
  },
  {
   "cell_type": "code",
   "execution_count": 400,
   "metadata": {},
   "outputs": [],
   "source": [
    "class Sgt():\n",
    "    '''\n",
    "    Compute embedding of a single or a collection of discrete item \n",
    "    sequences. A discrete item sequence is a sequence made from a set\n",
    "    discrete elements, also known as alphabet set. For example,\n",
    "    suppose the alphabet set is the set of roman letters, \n",
    "    {A, B, ..., Z}. This set is made of discrete elements. Examples of\n",
    "    sequences from such a set are AABADDSA, UADSFJPFFFOIHOUGD, etc.\n",
    "    Such sequence datasets are commonly found in online industry,\n",
    "    for example, item purchase history, where the alphabet set is\n",
    "    the set of all product items. Sequence datasets are abundant in\n",
    "    bioinformatics as protein sequences.\n",
    "    Using the embeddings created here, classification and clustering\n",
    "    models can be built for sequence datasets.\n",
    "    Read more in https://arxiv.org/pdf/1608.03533.pdf\n",
    "\n",
    "    Parameters\n",
    "    ----------\n",
    "    Input\n",
    "    \n",
    "    alphabets       Optional. The set of alphabets that make up all \n",
    "                    the sequences in the dataset. If not passed, the\n",
    "                    alphabet set is automatically computed as the \n",
    "                    unique set of elements that make all the sequences.\n",
    "    \n",
    "    kappa           Tuning parameter, kappa > 0, to change the extraction of \n",
    "                    long-term dependency. Higher the value the lesser\n",
    "                    the long-term dependency captured in the embedding.\n",
    "                    Typical values for kappa are 1, 5, 10.\n",
    "                   \n",
    "    lengthsensitive Default false. This is set to true if the embedding of\n",
    "                    should have the information of the length of the sequence.\n",
    "                    If set to false then the embedding of two sequences with\n",
    "                    similar pattern but different lengths will be the same.\n",
    "                    lengthsensitive = false is similar to length-normalization.\n",
    "    '''\n",
    "    \n",
    "\n",
    "    def __init__(self, alphabets=np.array([]), kappa=5, lengthsensitive=True):\n",
    "        self.alphabets = alphabets\n",
    "        self.kappa = kappa\n",
    "        self.lengthsensitive = lengthsensitive\n",
    "        \n",
    "    def getpositions(self, sequence, alphabets):\n",
    "        '''\n",
    "        Compute index position elements in the sequence\n",
    "        given alphabets set.\n",
    "\n",
    "        Return list of tuples [(value, position)]\n",
    "        '''\n",
    "        positions = [(v, np.where(sequence==v)) for v in alphabets if v in sequence]\n",
    "        \n",
    "        return positions\n",
    "    \n",
    "    def fit(self, sequence, alphabets, lengthsensitive, kappa, flatten):\n",
    "        '''\n",
    "        Extract Sequence Graph Transform features using Algorithm-2.\n",
    "\n",
    "        sequence            An array of discrete elements. For example,\n",
    "                            np.array([\"B\",\"B\",\"A\",\"C\",\"A\",\"C\",\"A\",\"A\",\"B\",\"A\"].\n",
    "        alphabets           An array of the set of elements that make up the sequences.\n",
    "                            For example, np.array([\"A\", \"B\", \"C\"].\n",
    "        lengthsensitive     A boolean set to false by default.\n",
    "        kappa               A positive value tuning parameter that is by default 1. \n",
    "                            Typically selected kappa from {1, 5, 10}.\n",
    "        flatten\n",
    "\n",
    "        return: sgt matrix\n",
    "\n",
    "        '''\n",
    "        \n",
    "        size = alphabets.shape[0]\n",
    "        l = 0\n",
    "        W0, Wk = np.zeros((size,size)), np.zeros((size,size))\n",
    "        positions = getpositions(sequence, alphabets)\n",
    "        \n",
    "        alphabets_in_sequence = np.unique(sequence)\n",
    "        \n",
    "        for i, u in enumerate(alphabets_in_sequence):\n",
    "\n",
    "            U = np.array(positions[index][1]).ravel()\n",
    "\n",
    "            for j, v in enumerate(alphabets_in_sequence):\n",
    "\n",
    "                V2 = np.array(positions[index][1]).ravel()\n",
    "\n",
    "                C = [(i,j) for i in U for j in V2 if j > i]\n",
    "\n",
    "                W0[i,j] = len(C)\n",
    "\n",
    "                cu = np.array([i[0] for i in C]) \n",
    "                cv = np.array([i[1] for i in C]) \n",
    "\n",
    "                Wk[i,j] = np.sum(np.exp(-kappa * np.abs(cu - cv)))\n",
    "\n",
    "            l += U.shape[0]\n",
    "\n",
    "        if lengthsensitive:\n",
    "            W0 /= l\n",
    "\n",
    "        W0[np.where(W0==0)] = 1e7  #avoid divide by 0\n",
    "\n",
    "        sgt = np.power(np.divide(Wk, W0), 1/kappa)\n",
    "        \n",
    "        if(flatten):\n",
    "            sgt = sgt.flatten()\n",
    "        else:\n",
    "            sgt = pd.DataFrame(sgt)\n",
    "            sgt.columns = alphabets.tolist()\n",
    "            sgt.index = alphabets.tolist()\n",
    "        \n",
    "        return sgt\n",
    "    \n",
    "    def __flatten(self, listOfLists):\n",
    "        \"Flatten one level of nesting\"\n",
    "        flat = [x for sublist in listOfLists for x in sublist]\n",
    "        return flat\n",
    "\n",
    "    def __estimate_alphabets(self, corpus):\n",
    "        return(np.unique(np.asarray(self.__flatten(corpus))))\n",
    "    \n",
    "    def set_alphabets(self, corpus):\n",
    "        self.alphabets = self.__estimate_alphabets(corpus)\n",
    "        return self\n",
    "        \n",
    "    def fit_transform(self, corpus):\n",
    "        '''\n",
    "        corpus       A list of sequences. Each sequence is a list of alphabets.\n",
    "        '''\n",
    "        if(np.empty(self.alphabets)):\n",
    "            self.alphabets = self.__estimate_alphabets(corpus)\n",
    "            \n",
    "        sgt = [self.fit(sequence=np.array(sequence), alphabets=self.alphabets, \\\n",
    "                          lengthsensitive=self.lengthsensitive, kappa=self.kappa, \\\n",
    "                          flatten = True).tolist() for sequence in corpus]\n",
    "\n",
    "        return(np.array(sgt))"
   ]
  },
  {
   "cell_type": "code",
   "execution_count": 401,
   "metadata": {},
   "outputs": [],
   "source": [
    "sgt = Sgt()"
   ]
  },
  {
   "cell_type": "code",
   "execution_count": 402,
   "metadata": {
    "collapsed": true
   },
   "outputs": [],
   "source": [
    "sequence = np.array([\"B\",\"B\",\"A\",\"C\",\"A\",\"C\",\"A\",\"A\",\"B\",\"A\"])\n",
    "corpus = [[\"B\",\"B\",\"A\",\"C\",\"A\",\"C\",\"A\",\"A\",\"B\",\"A\"], [\"C\", \"Z\", \"Z\", \"Z\", \"D\"]]\n",
    "alphabets = np.array([\"A\", \"B\", \"C\"])\n",
    "lengthsensitive = True\n",
    "kappa = 5"
   ]
  },
  {
   "cell_type": "code",
   "execution_count": 403,
   "metadata": {},
   "outputs": [
    {
     "data": {
      "text/plain": [
       "[('A', (array([2, 4, 6, 7, 9]),)),\n",
       " ('B', (array([0, 1, 8]),)),\n",
       " ('C', (array([3, 5]),))]"
      ]
     },
     "execution_count": 403,
     "metadata": {},
     "output_type": "execute_result"
    }
   ],
   "source": [
    "# \n",
    "sgt.getpositions(sequence = np.array(corpus[0]), alphabets = alphabets)"
   ]
  },
  {
   "cell_type": "code",
   "execution_count": 404,
   "metadata": {},
   "outputs": [
    {
     "data": {
      "text/html": [
       "<div>\n",
       "<style>\n",
       "    .dataframe thead tr:only-child th {\n",
       "        text-align: right;\n",
       "    }\n",
       "\n",
       "    .dataframe thead th {\n",
       "        text-align: left;\n",
       "    }\n",
       "\n",
       "    .dataframe tbody tr th {\n",
       "        vertical-align: top;\n",
       "    }\n",
       "</style>\n",
       "<table border=\"1\" class=\"dataframe\">\n",
       "  <thead>\n",
       "    <tr style=\"text-align: right;\">\n",
       "      <th></th>\n",
       "      <th>A</th>\n",
       "      <th>B</th>\n",
       "      <th>C</th>\n",
       "    </tr>\n",
       "  </thead>\n",
       "  <tbody>\n",
       "    <tr>\n",
       "      <th>A</th>\n",
       "      <td>0.369361</td>\n",
       "      <td>0.442463</td>\n",
       "      <td>0.537637</td>\n",
       "    </tr>\n",
       "    <tr>\n",
       "      <th>B</th>\n",
       "      <td>0.414884</td>\n",
       "      <td>0.468038</td>\n",
       "      <td>0.162774</td>\n",
       "    </tr>\n",
       "    <tr>\n",
       "      <th>C</th>\n",
       "      <td>0.454136</td>\n",
       "      <td>0.068693</td>\n",
       "      <td>0.214492</td>\n",
       "    </tr>\n",
       "  </tbody>\n",
       "</table>\n",
       "</div>"
      ],
      "text/plain": [
       "          A         B         C\n",
       "A  0.369361  0.442463  0.537637\n",
       "B  0.414884  0.468038  0.162774\n",
       "C  0.454136  0.068693  0.214492"
      ]
     },
     "execution_count": 404,
     "metadata": {},
     "output_type": "execute_result"
    }
   ],
   "source": [
    "sgt.fit(sequence, alphabets, lengthsensitive, kappa, flatten=False)"
   ]
  },
  {
   "cell_type": "code",
   "execution_count": 373,
   "metadata": {},
   "outputs": [
    {
     "data": {
      "text/plain": [
       "<__main__.Sgt at 0x116b1beb8>"
      ]
     },
     "execution_count": 373,
     "metadata": {},
     "output_type": "execute_result"
    }
   ],
   "source": [
    "sgt.set_alphabets(corpus)"
   ]
  },
  {
   "cell_type": "code",
   "execution_count": 409,
   "metadata": {},
   "outputs": [
    {
     "data": {
      "text/html": [
       "<div>\n",
       "<style>\n",
       "    .dataframe thead tr:only-child th {\n",
       "        text-align: right;\n",
       "    }\n",
       "\n",
       "    .dataframe thead th {\n",
       "        text-align: left;\n",
       "    }\n",
       "\n",
       "    .dataframe tbody tr th {\n",
       "        vertical-align: top;\n",
       "    }\n",
       "</style>\n",
       "<table border=\"1\" class=\"dataframe\">\n",
       "  <thead>\n",
       "    <tr style=\"text-align: right;\">\n",
       "      <th></th>\n",
       "      <th>A</th>\n",
       "      <th>B</th>\n",
       "      <th>C</th>\n",
       "      <th>D</th>\n",
       "      <th>Z</th>\n",
       "    </tr>\n",
       "  </thead>\n",
       "  <tbody>\n",
       "    <tr>\n",
       "      <th>A</th>\n",
       "      <td>0.0</td>\n",
       "      <td>0.025271</td>\n",
       "      <td>0.408002</td>\n",
       "      <td>0.0</td>\n",
       "      <td>0.0</td>\n",
       "    </tr>\n",
       "    <tr>\n",
       "      <th>B</th>\n",
       "      <td>0.0</td>\n",
       "      <td>0.000000</td>\n",
       "      <td>0.000000</td>\n",
       "      <td>0.0</td>\n",
       "      <td>0.0</td>\n",
       "    </tr>\n",
       "    <tr>\n",
       "      <th>C</th>\n",
       "      <td>0.0</td>\n",
       "      <td>0.408002</td>\n",
       "      <td>0.468353</td>\n",
       "      <td>0.0</td>\n",
       "      <td>0.0</td>\n",
       "    </tr>\n",
       "    <tr>\n",
       "      <th>D</th>\n",
       "      <td>0.0</td>\n",
       "      <td>0.000000</td>\n",
       "      <td>0.000000</td>\n",
       "      <td>0.0</td>\n",
       "      <td>0.0</td>\n",
       "    </tr>\n",
       "    <tr>\n",
       "      <th>Z</th>\n",
       "      <td>0.0</td>\n",
       "      <td>0.000000</td>\n",
       "      <td>0.000000</td>\n",
       "      <td>0.0</td>\n",
       "      <td>0.0</td>\n",
       "    </tr>\n",
       "  </tbody>\n",
       "</table>\n",
       "</div>"
      ],
      "text/plain": [
       "     A         B         C    D    Z\n",
       "A  0.0  0.025271  0.408002  0.0  0.0\n",
       "B  0.0  0.000000  0.000000  0.0  0.0\n",
       "C  0.0  0.408002  0.468353  0.0  0.0\n",
       "D  0.0  0.000000  0.000000  0.0  0.0\n",
       "Z  0.0  0.000000  0.000000  0.0  0.0"
      ]
     },
     "execution_count": 409,
     "metadata": {},
     "output_type": "execute_result"
    }
   ],
   "source": [
    "sgt.fit(sequence = np.array(corpus[1]), alphabets = np.array([\"A\",\"B\",\"C\",\"D\",\"Z\"]), lengthsensitive = lengthsensitive, kappa = kappa, flatten=False)"
   ]
  },
  {
   "cell_type": "code",
   "execution_count": 410,
   "metadata": {},
   "outputs": [
    {
     "data": {
      "text/html": [
       "<div>\n",
       "<style>\n",
       "    .dataframe thead tr:only-child th {\n",
       "        text-align: right;\n",
       "    }\n",
       "\n",
       "    .dataframe thead th {\n",
       "        text-align: left;\n",
       "    }\n",
       "\n",
       "    .dataframe tbody tr th {\n",
       "        vertical-align: top;\n",
       "    }\n",
       "</style>\n",
       "<table border=\"1\" class=\"dataframe\">\n",
       "  <thead>\n",
       "    <tr style=\"text-align: right;\">\n",
       "      <th></th>\n",
       "      <th>A</th>\n",
       "      <th>B</th>\n",
       "      <th>C</th>\n",
       "      <th>D</th>\n",
       "      <th>Z</th>\n",
       "    </tr>\n",
       "  </thead>\n",
       "  <tbody>\n",
       "    <tr>\n",
       "      <th>A</th>\n",
       "      <td>0.369361</td>\n",
       "      <td>0.442463</td>\n",
       "      <td>0.537637</td>\n",
       "      <td>0.0</td>\n",
       "      <td>0.0</td>\n",
       "    </tr>\n",
       "    <tr>\n",
       "      <th>B</th>\n",
       "      <td>0.414884</td>\n",
       "      <td>0.468038</td>\n",
       "      <td>0.162774</td>\n",
       "      <td>0.0</td>\n",
       "      <td>0.0</td>\n",
       "    </tr>\n",
       "    <tr>\n",
       "      <th>C</th>\n",
       "      <td>0.454136</td>\n",
       "      <td>0.068693</td>\n",
       "      <td>0.214492</td>\n",
       "      <td>0.0</td>\n",
       "      <td>0.0</td>\n",
       "    </tr>\n",
       "    <tr>\n",
       "      <th>D</th>\n",
       "      <td>0.000000</td>\n",
       "      <td>0.000000</td>\n",
       "      <td>0.000000</td>\n",
       "      <td>0.0</td>\n",
       "      <td>0.0</td>\n",
       "    </tr>\n",
       "    <tr>\n",
       "      <th>Z</th>\n",
       "      <td>0.000000</td>\n",
       "      <td>0.000000</td>\n",
       "      <td>0.000000</td>\n",
       "      <td>0.0</td>\n",
       "      <td>0.0</td>\n",
       "    </tr>\n",
       "  </tbody>\n",
       "</table>\n",
       "</div>"
      ],
      "text/plain": [
       "          A         B         C    D    Z\n",
       "A  0.369361  0.442463  0.537637  0.0  0.0\n",
       "B  0.414884  0.468038  0.162774  0.0  0.0\n",
       "C  0.454136  0.068693  0.214492  0.0  0.0\n",
       "D  0.000000  0.000000  0.000000  0.0  0.0\n",
       "Z  0.000000  0.000000  0.000000  0.0  0.0"
      ]
     },
     "execution_count": 410,
     "metadata": {},
     "output_type": "execute_result"
    }
   ],
   "source": [
    "sgt.fit(sequence = np.array(corpus[0]), alphabets = np.array([\"A\",\"B\",\"C\",\"D\",\"Z\"]), lengthsensitive = lengthsensitive, kappa = kappa, flatten=False)"
   ]
  },
  {
   "cell_type": "code",
   "execution_count": 343,
   "metadata": {},
   "outputs": [
    {
     "name": "stdout",
     "output_type": "stream",
     "text": [
      "['A' 'B' 'C' 'D' 'Z']\n",
      "True\n",
      "5\n",
      "[[0.36936141 0.44246287 0.53763711 0.         0.         0.41488439\n",
      "  0.46803816 0.16277446 0.         0.         0.45413611 0.06869332\n",
      "  0.21449197 0.         0.         0.         0.         0.\n",
      "  0.         0.         0.         0.         0.         0.\n",
      "  0.        ]\n",
      " [0.         0.02527063 0.40800217 0.         0.         0.\n",
      "  0.         0.         0.         0.         0.         0.40800217\n",
      "  0.4683531  0.         0.         0.         0.         0.\n",
      "  0.         0.         0.         0.         0.         0.\n",
      "  0.        ]]\n"
     ]
    }
   ],
   "source": [
    "s = sgt.fit_transform(corpus)\n",
    "print(s)\n",
    "# print(np.array(corpus[0]))"
   ]
  },
  {
   "cell_type": "code",
   "execution_count": 288,
   "metadata": {},
   "outputs": [
    {
     "data": {
      "text/plain": [
       "array(['B', 'B', 'A', 'C', 'A', 'C', 'A', 'A', 'B', 'A'], dtype='<U1')"
      ]
     },
     "execution_count": 288,
     "metadata": {},
     "output_type": "execute_result"
    }
   ],
   "source": [
    "np.array([\"B\",\"B\",\"A\",\"C\",\"A\",\"C\",\"A\",\"A\",\"B\",\"A\"])"
   ]
  },
  {
   "cell_type": "code",
   "execution_count": 289,
   "metadata": {},
   "outputs": [
    {
     "data": {
      "text/plain": [
       "['B', 'B', 'A', 'C', 'A', 'C', 'A', 'A', 'B', 'A']"
      ]
     },
     "execution_count": 289,
     "metadata": {},
     "output_type": "execute_result"
    }
   ],
   "source": [
    "corpus[0]"
   ]
  },
  {
   "cell_type": "code",
   "execution_count": 242,
   "metadata": {},
   "outputs": [
    {
     "data": {
      "text/plain": [
       "array(['B', 'B', 'A', 'C', 'A', 'C', 'A', 'A', 'B', 'A'], dtype='<U1')"
      ]
     },
     "execution_count": 242,
     "metadata": {},
     "output_type": "execute_result"
    }
   ],
   "source": [
    "np.array(corpus[0])"
   ]
  },
  {
   "cell_type": "code",
   "execution_count": null,
   "metadata": {
    "collapsed": true
   },
   "outputs": [],
   "source": []
  }
 ],
 "metadata": {
  "kernelspec": {
   "display_name": "Python 3",
   "language": "python",
   "name": "python3"
  },
  "language_info": {
   "codemirror_mode": {
    "name": "ipython",
    "version": 3
   },
   "file_extension": ".py",
   "mimetype": "text/x-python",
   "name": "python",
   "nbconvert_exporter": "python",
   "pygments_lexer": "ipython3",
   "version": "3.6.8"
  }
 },
 "nbformat": 4,
 "nbformat_minor": 2
}
